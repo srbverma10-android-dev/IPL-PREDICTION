{
 "cells": [
  {
   "cell_type": "code",
   "execution_count": 1,
   "id": "57a2ffd6",
   "metadata": {},
   "outputs": [],
   "source": [
    "import numpy as np\n",
    "import matplotlib.pyplot as plt\n",
    "import pandas as pd\n",
    "import seaborn as sn\n",
    "from sklearn.preprocessing import LabelEncoder\n",
    "from sklearn.model_selection import train_test_split\n",
    "from sklearn.ensemble import RandomForestClassifier\n",
    "from sklearn.metrics import accuracy_score, confusion_matrix, classification_report"
   ]
  },
  {
   "cell_type": "code",
   "execution_count": 2,
   "id": "0a4bb390",
   "metadata": {},
   "outputs": [],
   "source": [
    "df_del = pd.read_csv('deliveries.csv')\n",
    "df_mat = pd.read_csv('matches.csv')"
   ]
  },
  {
   "cell_type": "code",
   "execution_count": 3,
   "id": "6d4e1ea6",
   "metadata": {},
   "outputs": [
    {
     "name": "stdout",
     "output_type": "stream",
     "text": [
      "<class 'pandas.core.frame.DataFrame'>\n",
      "RangeIndex: 150460 entries, 0 to 150459\n",
      "Data columns (total 21 columns):\n",
      " #   Column            Non-Null Count   Dtype \n",
      "---  ------            --------------   ----- \n",
      " 0   match_id          150460 non-null  int64 \n",
      " 1   inning            150460 non-null  int64 \n",
      " 2   batting_team      150460 non-null  object\n",
      " 3   bowling_team      150460 non-null  object\n",
      " 4   over              150460 non-null  int64 \n",
      " 5   ball              150460 non-null  int64 \n",
      " 6   batsman           150460 non-null  object\n",
      " 7   non_striker       150460 non-null  object\n",
      " 8   bowler            150460 non-null  object\n",
      " 9   is_super_over     150460 non-null  int64 \n",
      " 10  wide_runs         150460 non-null  int64 \n",
      " 11  bye_runs          150460 non-null  int64 \n",
      " 12  legbye_runs       150460 non-null  int64 \n",
      " 13  noball_runs       150460 non-null  int64 \n",
      " 14  penalty_runs      150460 non-null  int64 \n",
      " 15  batsman_runs      150460 non-null  int64 \n",
      " 16  extra_runs        150460 non-null  int64 \n",
      " 17  total_runs        150460 non-null  int64 \n",
      " 18  player_dismissed  7438 non-null    object\n",
      " 19  dismissal_kind    7438 non-null    object\n",
      " 20  fielder           5369 non-null    object\n",
      "dtypes: int64(13), object(8)\n",
      "memory usage: 24.1+ MB\n",
      "None\n",
      "<class 'pandas.core.frame.DataFrame'>\n",
      "RangeIndex: 636 entries, 0 to 635\n",
      "Data columns (total 18 columns):\n",
      " #   Column           Non-Null Count  Dtype  \n",
      "---  ------           --------------  -----  \n",
      " 0   match_id         636 non-null    int64  \n",
      " 1   season           636 non-null    int64  \n",
      " 2   city             629 non-null    object \n",
      " 3   date             636 non-null    object \n",
      " 4   team1            636 non-null    object \n",
      " 5   team2            636 non-null    object \n",
      " 6   toss_winner      636 non-null    object \n",
      " 7   toss_decision    636 non-null    object \n",
      " 8   result           636 non-null    object \n",
      " 9   dl_applied       636 non-null    int64  \n",
      " 10  winner           633 non-null    object \n",
      " 11  win_by_runs      636 non-null    int64  \n",
      " 12  win_by_wickets   636 non-null    int64  \n",
      " 13  player_of_match  633 non-null    object \n",
      " 14  venue            636 non-null    object \n",
      " 15  umpire1          635 non-null    object \n",
      " 16  umpire2          635 non-null    object \n",
      " 17  umpire3          0 non-null      float64\n",
      "dtypes: float64(1), int64(5), object(12)\n",
      "memory usage: 89.6+ KB\n",
      "None\n"
     ]
    }
   ],
   "source": [
    "print(df_del.info())\n",
    "print(df_mat.info())"
   ]
  },
  {
   "cell_type": "code",
   "execution_count": 4,
   "id": "c3f973aa",
   "metadata": {},
   "outputs": [
    {
     "name": "stdout",
     "output_type": "stream",
     "text": [
      "<class 'pandas.core.frame.DataFrame'>\n",
      "Int64Index: 150460 entries, 0 to 150459\n",
      "Data columns (total 38 columns):\n",
      " #   Column            Non-Null Count   Dtype  \n",
      "---  ------            --------------   -----  \n",
      " 0   match_id          150460 non-null  int64  \n",
      " 1   inning            150460 non-null  int64  \n",
      " 2   batting_team      150460 non-null  object \n",
      " 3   bowling_team      150460 non-null  object \n",
      " 4   over              150460 non-null  int64  \n",
      " 5   ball              150460 non-null  int64  \n",
      " 6   batsman           150460 non-null  object \n",
      " 7   non_striker       150460 non-null  object \n",
      " 8   bowler            150460 non-null  object \n",
      " 9   is_super_over     150460 non-null  int64  \n",
      " 10  wide_runs         150460 non-null  int64  \n",
      " 11  bye_runs          150460 non-null  int64  \n",
      " 12  legbye_runs       150460 non-null  int64  \n",
      " 13  noball_runs       150460 non-null  int64  \n",
      " 14  penalty_runs      150460 non-null  int64  \n",
      " 15  batsman_runs      150460 non-null  int64  \n",
      " 16  extra_runs        150460 non-null  int64  \n",
      " 17  total_runs        150460 non-null  int64  \n",
      " 18  player_dismissed  7438 non-null    object \n",
      " 19  dismissal_kind    7438 non-null    object \n",
      " 20  fielder           5369 non-null    object \n",
      " 21  season            150460 non-null  int64  \n",
      " 22  city              148760 non-null  object \n",
      " 23  date              150460 non-null  object \n",
      " 24  team1             150460 non-null  object \n",
      " 25  team2             150460 non-null  object \n",
      " 26  toss_winner       150460 non-null  object \n",
      " 27  toss_decision     150460 non-null  object \n",
      " 28  result            150460 non-null  object \n",
      " 29  dl_applied        150460 non-null  int64  \n",
      " 30  winner            150139 non-null  object \n",
      " 31  win_by_runs       150460 non-null  int64  \n",
      " 32  win_by_wickets    150460 non-null  int64  \n",
      " 33  player_of_match   150139 non-null  object \n",
      " 34  venue             150460 non-null  object \n",
      " 35  umpire1           150212 non-null  object \n",
      " 36  umpire2           150212 non-null  object \n",
      " 37  umpire3           0 non-null       float64\n",
      "dtypes: float64(1), int64(17), object(20)\n",
      "memory usage: 44.8+ MB\n"
     ]
    }
   ],
   "source": [
    "df = pd.merge(df_del, df_mat, on=\"match_id\")\n",
    "df.info()"
   ]
  },
  {
   "cell_type": "code",
   "execution_count": 5,
   "id": "69b943b8",
   "metadata": {},
   "outputs": [
    {
     "data": {
      "text/plain": [
       "Mumbai Indians                 18943\n",
       "Royal Challengers Bangalore    17678\n",
       "Kings XI Punjab                17594\n",
       "Kolkata Knight Riders          17229\n",
       "Delhi Daredevils               17185\n",
       "Chennai Super Kings            15754\n",
       "Rajasthan Royals               13914\n",
       "Sunrisers Hyderabad             9058\n",
       "Deccan Chargers                 9034\n",
       "Pune Warriors                   5443\n",
       "Gujarat Lions                   3566\n",
       "Rising Pune Supergiant          1900\n",
       "Kochi Tuskers Kerala            1582\n",
       "Rising Pune Supergiants         1580\n",
       "Name: batting_team, dtype: int64"
      ]
     },
     "execution_count": 5,
     "metadata": {},
     "output_type": "execute_result"
    }
   ],
   "source": [
    "df['batting_team'].value_counts()"
   ]
  },
  {
   "cell_type": "code",
   "execution_count": 6,
   "id": "c6b22930",
   "metadata": {},
   "outputs": [
    {
     "name": "stdout",
     "output_type": "stream",
     "text": [
      "<class 'pandas.core.frame.DataFrame'>\n",
      "Int64Index: 106567 entries, 0 to 150459\n",
      "Data columns (total 38 columns):\n",
      " #   Column            Non-Null Count   Dtype  \n",
      "---  ------            --------------   -----  \n",
      " 0   match_id          106567 non-null  int64  \n",
      " 1   inning            106567 non-null  int64  \n",
      " 2   batting_team      106567 non-null  object \n",
      " 3   bowling_team      106567 non-null  object \n",
      " 4   over              106567 non-null  int64  \n",
      " 5   ball              106567 non-null  int64  \n",
      " 6   batsman           106567 non-null  object \n",
      " 7   non_striker       106567 non-null  object \n",
      " 8   bowler            106567 non-null  object \n",
      " 9   is_super_over     106567 non-null  int64  \n",
      " 10  wide_runs         106567 non-null  int64  \n",
      " 11  bye_runs          106567 non-null  int64  \n",
      " 12  legbye_runs       106567 non-null  int64  \n",
      " 13  noball_runs       106567 non-null  int64  \n",
      " 14  penalty_runs      106567 non-null  int64  \n",
      " 15  batsman_runs      106567 non-null  int64  \n",
      " 16  extra_runs        106567 non-null  int64  \n",
      " 17  total_runs        106567 non-null  int64  \n",
      " 18  player_dismissed  5246 non-null    object \n",
      " 19  dismissal_kind    5246 non-null    object \n",
      " 20  fielder           3787 non-null    object \n",
      " 21  season            106567 non-null  int64  \n",
      " 22  city              104867 non-null  object \n",
      " 23  date              106567 non-null  object \n",
      " 24  team1             106567 non-null  object \n",
      " 25  team2             106567 non-null  object \n",
      " 26  toss_winner       106567 non-null  object \n",
      " 27  toss_decision     106567 non-null  object \n",
      " 28  result            106567 non-null  object \n",
      " 29  dl_applied        106567 non-null  int64  \n",
      " 30  winner            106309 non-null  object \n",
      " 31  win_by_runs       106567 non-null  int64  \n",
      " 32  win_by_wickets    106567 non-null  int64  \n",
      " 33  player_of_match   106309 non-null  object \n",
      " 34  venue             106567 non-null  object \n",
      " 35  umpire1           106319 non-null  object \n",
      " 36  umpire2           106319 non-null  object \n",
      " 37  umpire3           0 non-null       float64\n",
      "dtypes: float64(1), int64(17), object(20)\n",
      "memory usage: 31.7+ MB\n"
     ]
    }
   ],
   "source": [
    "df.sort_values(by=['match_id', 'inning', 'over', 'ball'])\n",
    "\n",
    "## now we will remove another match between non continous team line pune gujrat and etc...\n",
    "teams_for_now = ['Sunrisers Hyderabad', 'Royal Challengers Bangalore',\n",
    "        'Mumbai Indians','Kolkata Knight Riders', 'Kings XI Punjab',\n",
    "        'Delhi Daredevils','Chennai Super Kings', 'Rajasthan Royals']\n",
    "\n",
    "df = df[(df['batting_team'].isin(teams_for_now)) & (df['bowling_team'].isin(teams_for_now)) &\n",
    "       (df['team1'].isin(teams_for_now)) & (df['team2'].isin(teams_for_now))]\n",
    "\n",
    "df.info()"
   ]
  },
  {
   "cell_type": "code",
   "execution_count": 7,
   "id": "6297e6ab",
   "metadata": {},
   "outputs": [
    {
     "name": "stdout",
     "output_type": "stream",
     "text": [
      "<class 'pandas.core.frame.DataFrame'>\n",
      "Int64Index: 106309 entries, 0 to 150459\n",
      "Data columns (total 38 columns):\n",
      " #   Column            Non-Null Count   Dtype  \n",
      "---  ------            --------------   -----  \n",
      " 0   match_id          106309 non-null  int64  \n",
      " 1   inning            106309 non-null  int64  \n",
      " 2   batting_team      106309 non-null  object \n",
      " 3   bowling_team      106309 non-null  object \n",
      " 4   over              106309 non-null  int64  \n",
      " 5   ball              106309 non-null  int64  \n",
      " 6   batsman           106309 non-null  object \n",
      " 7   non_striker       106309 non-null  object \n",
      " 8   bowler            106309 non-null  object \n",
      " 9   is_super_over     106309 non-null  int64  \n",
      " 10  wide_runs         106309 non-null  int64  \n",
      " 11  bye_runs          106309 non-null  int64  \n",
      " 12  legbye_runs       106309 non-null  int64  \n",
      " 13  noball_runs       106309 non-null  int64  \n",
      " 14  penalty_runs      106309 non-null  int64  \n",
      " 15  batsman_runs      106309 non-null  int64  \n",
      " 16  extra_runs        106309 non-null  int64  \n",
      " 17  total_runs        106309 non-null  int64  \n",
      " 18  player_dismissed  5234 non-null    object \n",
      " 19  dismissal_kind    5234 non-null    object \n",
      " 20  fielder           3776 non-null    object \n",
      " 21  season            106309 non-null  int64  \n",
      " 22  city              104609 non-null  object \n",
      " 23  date              106309 non-null  object \n",
      " 24  team1             106309 non-null  object \n",
      " 25  team2             106309 non-null  object \n",
      " 26  toss_winner       106309 non-null  object \n",
      " 27  toss_decision     106309 non-null  object \n",
      " 28  result            106309 non-null  object \n",
      " 29  dl_applied        106309 non-null  int64  \n",
      " 30  winner            106309 non-null  object \n",
      " 31  win_by_runs       106309 non-null  int64  \n",
      " 32  win_by_wickets    106309 non-null  int64  \n",
      " 33  player_of_match   106309 non-null  object \n",
      " 34  venue             106309 non-null  object \n",
      " 35  umpire1           106061 non-null  object \n",
      " 36  umpire2           106061 non-null  object \n",
      " 37  umpire3           0 non-null       float64\n",
      "dtypes: float64(1), int64(17), object(20)\n",
      "memory usage: 31.6+ MB\n"
     ]
    }
   ],
   "source": [
    "df = df.drop(df[df['winner'].isnull()].index,axis = 0)\n",
    "df.info()"
   ]
  },
  {
   "cell_type": "code",
   "execution_count": 8,
   "id": "1e8f12e8",
   "metadata": {},
   "outputs": [
    {
     "name": "stdout",
     "output_type": "stream",
     "text": [
      "0 records done\n",
      "10000 records done\n",
      "20000 records done\n",
      "30000 records done\n",
      "40000 records done\n",
      "50000 records done\n",
      "60000 records done\n",
      "70000 records done\n",
      "80000 records done\n",
      "90000 records done\n",
      "100000 records done\n",
      "INNING CHANGE :  461\n",
      "MATCH CHANGE :  448\n"
     ]
    }
   ],
   "source": [
    "total_runs_by_team = []\n",
    "balls = []\n",
    "wickets = []\n",
    "\n",
    "matchId = 1\n",
    "innings = 1\n",
    "\n",
    "count_total_runs = 0\n",
    "count_total_balls = 0\n",
    "count_total_wickets = 0\n",
    "\n",
    "inningChange = 0\n",
    "matchChange = 0\n",
    "\n",
    "for i in range(0,len(df)):\n",
    "    if (innings != df.iloc[i]['inning'] and matchId == df.iloc[i]['match_id']) :\n",
    "        #changing inning\n",
    "        inningChange = inningChange + 1\n",
    "        innings = df.iloc[i]['inning']\n",
    "        count_total_runs = 0\n",
    "        count_total_balls = 0\n",
    "        count_total_wickets = 0    \n",
    "    if (innings != df.iloc[i]['inning'] and matchId != df.iloc[i]['match_id']) :\n",
    "        #changing match         \n",
    "        matchChange = matchChange + 1\n",
    "        innings = df.iloc[i]['inning']\n",
    "        matchId = df.iloc[i]['match_id']\n",
    "        count_total_runs = 0\n",
    "        count_total_balls = 0\n",
    "        count_total_wickets = 0        \n",
    "    count_total_runs = count_total_runs + df.iloc[i]['total_runs']\n",
    "    total_runs_by_team.append(count_total_runs) \n",
    "    \n",
    "    if(pd.isna(df.iloc[i]['player_dismissed']) == False):\n",
    "        count_total_wickets = count_total_wickets + 1\n",
    "    \n",
    "    if(df.iloc[i]['wide_runs'] == 0 and df.iloc[i]['noball_runs'] == 0):\n",
    "        count_total_balls = count_total_balls + 1\n",
    "    \n",
    "    wickets.append(count_total_wickets)\n",
    "    balls.append(count_total_balls)\n",
    "    \n",
    "    \n",
    "    if(i %10000 == 0):\n",
    "        print(i, 'records done')\n",
    "        \n",
    "print('INNING CHANGE : ', inningChange)\n",
    "print('MATCH CHANGE : ', matchChange)\n",
    "df['total_runs_by_team'] = total_runs_by_team\n",
    "df['balls'] = balls\n",
    "df['wickets'] = wickets"
   ]
  },
  {
   "cell_type": "code",
   "execution_count": 9,
   "id": "9e170558",
   "metadata": {},
   "outputs": [],
   "source": [
    "crr = []\n",
    "\n",
    "for i in range(0, len(df)):    \n",
    "    if df.iloc[i]['balls'] == 0:\n",
    "        crr.append(df.iloc[i]['total_runs_by_team'])\n",
    "    else :\n",
    "        crr.append(df.iloc[i]['total_runs_by_team'] / (df.iloc[i]['balls'] / 6))\n",
    "\n",
    "df['crr'] = crr"
   ]
  },
  {
   "cell_type": "code",
   "execution_count": 10,
   "id": "8b812cf2",
   "metadata": {},
   "outputs": [],
   "source": [
    "dic = {}\n",
    "for i  in range(0, len(df)):\n",
    "    dic[str(df.iloc[i]['match_id']) + '_' + str(df.iloc[i]['inning'])] = df.iloc[i]['total_runs_by_team']\n",
    "    \n",
    "rrr = []\n",
    "runs_by_another_team_list = []\n",
    "\n",
    "for i in range(0, len(df)):\n",
    "    if ((df.iloc[i]['inning'] % 2) == 1):\n",
    "        rrr.append(0)\n",
    "        runs_by_another_team_list.append(0) \n",
    "\n",
    "    else :\n",
    "        runs_by_another_team = dic[str(df.iloc[i]['match_id']) + '_' + str(df.iloc[i]['inning'] -1)]\n",
    "        runs_by_another_team_list.append(runs_by_another_team) \n",
    "        current_num = df.iloc[i]['total_runs_by_team']\n",
    "        balls_remaining = abs(121 - df.iloc[i]['balls'])\n",
    "        rrr.append((runs_by_another_team - current_num) / balls_remaining)\n",
    "        \n",
    "df['rrr'] = rrr\n",
    "df['runs_by_another_team'] = runs_by_another_team_list"
   ]
  },
  {
   "cell_type": "code",
   "execution_count": 11,
   "id": "97b76614",
   "metadata": {},
   "outputs": [
    {
     "data": {
      "text/plain": [
       "match_id                     0\n",
       "inning                       0\n",
       "batting_team                 0\n",
       "bowling_team                 0\n",
       "over                         0\n",
       "ball                         0\n",
       "batsman                      0\n",
       "non_striker                  0\n",
       "bowler                       0\n",
       "is_super_over                0\n",
       "wide_runs                    0\n",
       "bye_runs                     0\n",
       "legbye_runs                  0\n",
       "noball_runs                  0\n",
       "penalty_runs                 0\n",
       "batsman_runs                 0\n",
       "extra_runs                   0\n",
       "total_runs                   0\n",
       "player_dismissed        101075\n",
       "dismissal_kind          101075\n",
       "fielder                 102533\n",
       "season                       0\n",
       "city                      1700\n",
       "date                         0\n",
       "team1                        0\n",
       "team2                        0\n",
       "toss_winner                  0\n",
       "toss_decision                0\n",
       "result                       0\n",
       "dl_applied                   0\n",
       "winner                       0\n",
       "win_by_runs                  0\n",
       "win_by_wickets               0\n",
       "player_of_match              0\n",
       "venue                        0\n",
       "umpire1                    248\n",
       "umpire2                    248\n",
       "umpire3                 106309\n",
       "total_runs_by_team           0\n",
       "balls                        0\n",
       "wickets                      0\n",
       "crr                          0\n",
       "rrr                          0\n",
       "runs_by_another_team         0\n",
       "dtype: int64"
      ]
     },
     "execution_count": 11,
     "metadata": {},
     "output_type": "execute_result"
    }
   ],
   "source": [
    "df.isnull().sum()"
   ]
  },
  {
   "cell_type": "code",
   "execution_count": 12,
   "id": "55ced685",
   "metadata": {},
   "outputs": [
    {
     "name": "stdout",
     "output_type": "stream",
     "text": [
      "<class 'pandas.core.frame.DataFrame'>\n",
      "Int64Index: 106309 entries, 0 to 150459\n",
      "Data columns (total 17 columns):\n",
      " #   Column                Non-Null Count   Dtype  \n",
      "---  ------                --------------   -----  \n",
      " 0   inning                106309 non-null  int64  \n",
      " 1   batting_team          106309 non-null  object \n",
      " 2   bowling_team          106309 non-null  object \n",
      " 3   batsman               106309 non-null  object \n",
      " 4   non_striker           106309 non-null  object \n",
      " 5   bowler                106309 non-null  object \n",
      " 6   is_super_over         106309 non-null  int64  \n",
      " 7   toss_winner           106309 non-null  object \n",
      " 8   toss_decision         106309 non-null  object \n",
      " 9   winner                106309 non-null  object \n",
      " 10  venue                 106309 non-null  object \n",
      " 11  total_runs_by_team    106309 non-null  int64  \n",
      " 12  balls                 106309 non-null  int64  \n",
      " 13  wickets               106309 non-null  int64  \n",
      " 14  crr                   106309 non-null  float64\n",
      " 15  rrr                   106309 non-null  float64\n",
      " 16  runs_by_another_team  106309 non-null  int64  \n",
      "dtypes: float64(2), int64(6), object(9)\n",
      "memory usage: 14.6+ MB\n"
     ]
    }
   ],
   "source": [
    "df = df.drop(['match_id', 'over', 'ball', 'wide_runs',\n",
    "       'bye_runs', 'legbye_runs', 'noball_runs', 'penalty_runs',\n",
    "       'batsman_runs', 'extra_runs', 'total_runs', 'player_dismissed',\n",
    "       'dismissal_kind', 'fielder', 'city','date', 'team1', 'team2', 'result',\n",
    "        'win_by_runs', 'win_by_wickets', 'player_of_match',\n",
    "        'dl_applied', 'umpire1', 'umpire2', 'umpire3', 'season'], axis = 1)\n",
    "df.info()"
   ]
  },
  {
   "cell_type": "code",
   "execution_count": 13,
   "id": "0aacfb88",
   "metadata": {},
   "outputs": [],
   "source": [
    "encoder = LabelEncoder()\n",
    "ftr_list = ['batting_team', 'bowling_team', 'toss_winner', 'toss_decision', 'winner', 'venue', 'batsman', 'non_striker', 'bowler']\n",
    "\n",
    "for ftr in ftr_list:\n",
    "    df[ftr] = encoder.fit_transform(df[ftr])"
   ]
  },
  {
   "cell_type": "code",
   "execution_count": 14,
   "id": "3b40bbf7",
   "metadata": {},
   "outputs": [],
   "source": [
    "labels = df['winner']\n",
    "features = df.drop(['winner'],axis = 1)"
   ]
  },
  {
   "cell_type": "code",
   "execution_count": 15,
   "id": "74e8b868",
   "metadata": {},
   "outputs": [],
   "source": [
    "train_features, test_features, train_labels, test_labels = train_test_split(features, labels, test_size = 0.20, random_state = 42)"
   ]
  },
  {
   "cell_type": "code",
   "execution_count": 16,
   "id": "7fa67e31",
   "metadata": {},
   "outputs": [
    {
     "name": "stdout",
     "output_type": "stream",
     "text": [
      "0.9990123224532029\n"
     ]
    }
   ],
   "source": [
    "clf=RandomForestClassifier(n_estimators=100)\n",
    "clf.fit(train_features, train_labels);\n",
    "\n",
    "pred_test = clf.predict(test_features)\n",
    "print(accuracy_score(pred_test,test_labels))"
   ]
  }
 ],
 "metadata": {
  "kernelspec": {
   "display_name": "Python 3",
   "language": "python",
   "name": "python3"
  },
  "language_info": {
   "codemirror_mode": {
    "name": "ipython",
    "version": 3
   },
   "file_extension": ".py",
   "mimetype": "text/x-python",
   "name": "python",
   "nbconvert_exporter": "python",
   "pygments_lexer": "ipython3",
   "version": "3.9.5"
  }
 },
 "nbformat": 4,
 "nbformat_minor": 5
}
